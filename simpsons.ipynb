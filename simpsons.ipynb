{
 "cells": [
  {
   "cell_type": "code",
   "execution_count": null,
   "id": "retained-dublin",
   "metadata": {},
   "outputs": [],
   "source": [
    "import os \n",
    "import caer\n",
    "import canaro\n",
    "import numpy as np\n",
    "import cv2 as cv\n",
    "import gc \n",
    "import sklearn.model_selection as skm"
   ]
  },
  {
   "cell_type": "code",
   "execution_count": null,
   "id": "direct-queen",
   "metadata": {},
   "outputs": [],
   "source": [
    "#gpu set up\n",
    "from distutils.version import LooseVersion\n",
    "import tensorflow as tf \n",
    "\n",
    "# check for gpu\n",
    "if not tf.test.gpu_device_name():\n",
    "    print(\"No Gpu Found\")\n",
    "else:\n",
    "    print(\"Default GPU device: {}\".format(tf.test.gpu_device_name()))"
   ]
  },
  {
   "cell_type": "code",
   "execution_count": null,
   "id": "female-simon",
   "metadata": {},
   "outputs": [],
   "source": [
    "IMG_SIZE = (80,80)\n",
    "channels = 1\n",
    "char_path = r'C:\\Users\\user\\Documents\\GitHub\\SimpsonsCapstone\\simpsons\\simpsons_dataset'"
   ]
  },
  {
   "cell_type": "code",
   "execution_count": 2,
   "id": "convertible-sullivan",
   "metadata": {},
   "outputs": [
    {
     "ename": "NameError",
     "evalue": "name 'os' is not defined",
     "output_type": "error",
     "traceback": [
      "\u001b[1;31m---------------------------------------------------------------------------\u001b[0m",
      "\u001b[1;31mNameError\u001b[0m                                 Traceback (most recent call last)",
      "\u001b[1;32m<ipython-input-2-e1f161edd8f4>\u001b[0m in \u001b[0;36m<module>\u001b[1;34m\u001b[0m\n\u001b[0;32m      1\u001b[0m \u001b[0mchar_dict\u001b[0m \u001b[1;33m=\u001b[0m \u001b[1;33m{\u001b[0m\u001b[1;33m}\u001b[0m\u001b[1;33m\u001b[0m\u001b[1;33m\u001b[0m\u001b[0m\n\u001b[0;32m      2\u001b[0m \u001b[1;33m\u001b[0m\u001b[0m\n\u001b[1;32m----> 3\u001b[1;33m \u001b[1;32mfor\u001b[0m \u001b[0mchar\u001b[0m \u001b[1;32min\u001b[0m \u001b[0mos\u001b[0m\u001b[1;33m.\u001b[0m\u001b[0mlistdir\u001b[0m\u001b[1;33m(\u001b[0m\u001b[0mchar_path\u001b[0m\u001b[1;33m)\u001b[0m\u001b[1;33m:\u001b[0m\u001b[1;33m\u001b[0m\u001b[1;33m\u001b[0m\u001b[0m\n\u001b[0m\u001b[0;32m      4\u001b[0m     \u001b[0mchar_dict\u001b[0m\u001b[1;33m[\u001b[0m\u001b[0mchar\u001b[0m\u001b[1;33m]\u001b[0m \u001b[1;33m=\u001b[0m \u001b[0mlen\u001b[0m\u001b[1;33m(\u001b[0m\u001b[0mos\u001b[0m\u001b[1;33m.\u001b[0m\u001b[0mlistdir\u001b[0m\u001b[1;33m(\u001b[0m\u001b[0mos\u001b[0m\u001b[1;33m.\u001b[0m\u001b[0mpath\u001b[0m\u001b[1;33m.\u001b[0m\u001b[0mjoin\u001b[0m\u001b[1;33m(\u001b[0m\u001b[0mchar_path\u001b[0m\u001b[1;33m,\u001b[0m \u001b[0mchar\u001b[0m\u001b[1;33m)\u001b[0m\u001b[1;33m)\u001b[0m\u001b[1;33m)\u001b[0m\u001b[1;33m\u001b[0m\u001b[1;33m\u001b[0m\u001b[0m\n\u001b[0;32m      5\u001b[0m \u001b[1;33m\u001b[0m\u001b[0m\n",
      "\u001b[1;31mNameError\u001b[0m: name 'os' is not defined"
     ]
    }
   ],
   "source": [
    "char_dict = {}\n",
    "\n",
    "for char in os.listdir(char_path):\n",
    "    char_dict[char] = len(os.listdir(os.path.join(char_path, char)))\n",
    "\n",
    "# sort in descending order\n",
    "char_dict = caer.sort_dict(char_dict, descending=True)\n",
    "char_dict"
   ]
  },
  {
   "cell_type": "code",
   "execution_count": null,
   "id": "eligible-expansion",
   "metadata": {},
   "outputs": [],
   "source": [
    "characters = []\n",
    "count = 0\n",
    "for i in char_dict:\n",
    "    characters.append(i[0])\n",
    "    count +=1\n",
    "    if count >=10:\n",
    "        break\n",
    "characters"
   ]
  },
  {
   "cell_type": "code",
   "execution_count": null,
   "id": "european-starter",
   "metadata": {},
   "outputs": [],
   "source": [
    "# create training data\n",
    "train = caer.preprocess_from_dir(char_path, characters, channels=channels, IMG_SIZE=IMG_SIZE, isShuffle=True)"
   ]
  },
  {
   "cell_type": "code",
   "execution_count": null,
   "id": "undefined-dollar",
   "metadata": {},
   "outputs": [],
   "source": [
    "import matplotlib.pyplot as plt\n",
    "\n",
    "plt.figure(figsize=(30,30))\n",
    "plt.imshow(train[0][0], cmap=\"gray\")\n",
    "plt.show()"
   ]
  },
  {
   "cell_type": "code",
   "execution_count": null,
   "id": "sized-variance",
   "metadata": {},
   "outputs": [],
   "source": [
    "featureSet, labels = caer.sep_train(train, IMG_SIZE=IMG_SIZE)"
   ]
  },
  {
   "cell_type": "code",
   "execution_count": null,
   "id": "false-construction",
   "metadata": {},
   "outputs": [],
   "source": [
    "from tensorflow.keras.utils import to_categorical\n",
    "# normalize the feature set ==> (0,1)\n",
    "featureSet = caer.normalize(featureSet)\n",
    "labels = to_categorical(labels, len(characters))\n"
   ]
  },
  {
   "cell_type": "code",
   "execution_count": null,
   "id": "offshore-target",
   "metadata": {},
   "outputs": [],
   "source": [
    "split_data = skm.train_test_split(featureSet, labels, test_size=.2)\n",
    "x_train, x_val, y_train, y_val = (np.array(item) for item in split_data)"
   ]
  },
  {
   "cell_type": "code",
   "execution_count": null,
   "id": "planned-offset",
   "metadata": {},
   "outputs": [],
   "source": [
    "del train\n",
    "del featureSet\n",
    "del labels\n",
    "gc.collect()"
   ]
  },
  {
   "cell_type": "code",
   "execution_count": null,
   "id": "registered-amount",
   "metadata": {},
   "outputs": [],
   "source": [
    "BATCH_SIZE = 32\n",
    "EPOCHS = 10"
   ]
  },
  {
   "cell_type": "code",
   "execution_count": null,
   "id": "accessible-steal",
   "metadata": {},
   "outputs": [],
   "source": [
    "# image data generator\n",
    "datagen = canaro.generators.imageDataGenerator()\n",
    "train_gen = datagen.flow(x_train, y_train, batch_size=BATCH_SIZE)"
   ]
  },
  {
   "cell_type": "code",
   "execution_count": null,
   "id": "union-implementation",
   "metadata": {},
   "outputs": [],
   "source": [
    "#model\n",
    "model = canaro.models.createSimpsonsModel(IMG_SIZE=IMG_SIZE, channels=channels, output_dim=len(characters), \n",
    "                                         loss='binary_crossentropy', decay=1e-7, learning_rate=0.001, momentum=0.9,\n",
    "                                         nesterov=True)"
   ]
  },
  {
   "cell_type": "code",
   "execution_count": null,
   "id": "informed-progressive",
   "metadata": {},
   "outputs": [],
   "source": [
    "model.summary()"
   ]
  },
  {
   "cell_type": "code",
   "execution_count": null,
   "id": "fewer-invitation",
   "metadata": {},
   "outputs": [],
   "source": [
    "# Training the model\n",
    "\n",
    "from tensorflow.keras.callbacks import LearningRateScheduler\n",
    "callbacks_list = [LearningRateScheduler(canaro.lr_schedule)]\n",
    "training = model.fit(train_gen,\n",
    "                    steps_per_epoch=len(x_train)//BATCH_SIZE,\n",
    "                    epochs=EPOCHS,\n",
    "                    validation_data=(x_val,y_val),\n",
    "                    validation_steps=len(y_val)//BATCH_SIZE,\n",
    "                    callbacks = callbacks_list)"
   ]
  },
  {
   "cell_type": "code",
   "execution_count": null,
   "id": "absent-stand",
   "metadata": {},
   "outputs": [],
   "source": []
  }
 ],
 "metadata": {
  "kernelspec": {
   "display_name": "Python 3",
   "language": "python",
   "name": "python3"
  },
  "language_info": {
   "codemirror_mode": {
    "name": "ipython",
    "version": 3
   },
   "file_extension": ".py",
   "mimetype": "text/x-python",
   "name": "python",
   "nbconvert_exporter": "python",
   "pygments_lexer": "ipython3",
   "version": "3.8.8"
  }
 },
 "nbformat": 4,
 "nbformat_minor": 5
}
